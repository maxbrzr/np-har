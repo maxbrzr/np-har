{
 "cells": [
  {
   "cell_type": "code",
   "execution_count": 1,
   "id": "963f7d9e",
   "metadata": {},
   "outputs": [],
   "source": [
    "import torch\n",
    "from har_datasets.dataset.har_dataset import HARDataset\n",
    "from har_datasets.supported.getter import DatasetId, get_har_dataset_cfg_and_parser\n",
    "\n",
    "from np_har.encoder.tiny_har import TinyHAR\n",
    "from np_har.training.train_simple import train_and_validate"
   ]
  },
  {
   "cell_type": "code",
   "execution_count": 2,
   "id": "644671a2",
   "metadata": {},
   "outputs": [
    {
     "name": "stdout",
     "output_type": "stream",
     "text": [
      "Creating config hash...\n",
      "Loading config hash...\n"
     ]
    },
    {
     "name": "stderr",
     "output_type": "stream",
     "text": [
      "Loading windows: 100%|██████████| 4841/4841 [00:01<00:00, 2483.22it/s]\n"
     ]
    }
   ],
   "source": [
    "cfg, parse = get_har_dataset_cfg_and_parser(DatasetId.UCI_HAR)\n",
    "dataset = HARDataset(cfg=cfg, parse=parse)\n",
    "\n",
    "train_loader, test_loader, val_loader = dataset.get_dataloaders()"
   ]
  },
  {
   "cell_type": "code",
   "execution_count": 3,
   "id": "ff711c71",
   "metadata": {},
   "outputs": [
    {
     "name": "stdout",
     "output_type": "stream",
     "text": [
      "cache_csv=True in_memory=True info=Info(dataset_id='uci_har', dataset_url='https://archive.ics.uci.edu/static/public/240/human+activity+recognition+using+smartphones.zip', sampling_freq=50) selections=Selections(activity_names=['WALKING', 'WALKING_UPSTAIRS', 'WALKING_DOWNSTAIRS', 'SITTING', 'STANDING', 'LAYING'], channels=['total_acc_x', 'total_acc_y', 'total_acc_z', 'body_acc_x', 'body_acc_y', 'body_acc_z', 'body_gyro_x', 'body_gyro_y', 'body_gyro_z']) split=Split(split_type=<SplitType.GIVEN: 'given'>, given_split=GivenSplit(train_subj_ids=[1, 2, 3, 4, 5, 6, 7, 8, 9, 10, 11, 12, 13, 14, 15, 16, 17, 18, 19, 20], test_subj_ids=[21, 22, 23, 24, 25], val_subj_ids=[26, 27, 28, 29, 30]), subj_cross_val_split=SubjCrossValSplit(subj_id_groups=[[1, 2, 3], [4, 5, 6], [7, 8, 9], [10, 11, 12], [13, 14, 15], [16, 17, 18], [19, 20, 21], [22, 23, 24], [25, 26, 27], [28, 29, 30]])) training=Training(batch_size=32, shuffle=True, learning_rate=0.0001, num_epochs=100)\n"
     ]
    }
   ],
   "source": [
    "print(cfg.dataset)"
   ]
  },
  {
   "cell_type": "code",
   "execution_count": 4,
   "id": "8850d71c",
   "metadata": {},
   "outputs": [],
   "source": [
    "model = TinyHAR(\n",
    "    num_classes=len(cfg.dataset.selections.activity_names),\n",
    "    num_sensors=len(cfg.dataset.selections.channels),\n",
    "    stride=(1, 1),\n",
    ")\n",
    "\n",
    "optim = torch.optim.Adam(model.parameters(), lr=1e-3)\n",
    "device = torch.device(\"cuda\" if torch.cuda.is_available() else \"cpu\")"
   ]
  },
  {
   "cell_type": "code",
   "execution_count": null,
   "id": "4f0546fd",
   "metadata": {},
   "outputs": [],
   "source": [
    "losses, train_accuracies, val_accuracies = train_and_validate(\n",
    "    model=model,\n",
    "    train_loader=train_loader,\n",
    "    val_loader=val_loader,\n",
    "    optimizer=optim,\n",
    "    device=device,\n",
    "    num_epochs=10,\n",
    ")"
   ]
  },
  {
   "cell_type": "code",
   "execution_count": 6,
   "id": "ac48fbf5",
   "metadata": {},
   "outputs": [
    {
     "ename": "NameError",
     "evalue": "name 'train_accuracies' is not defined",
     "output_type": "error",
     "traceback": [
      "\u001b[31m---------------------------------------------------------------------------\u001b[39m",
      "\u001b[31mNameError\u001b[39m                                 Traceback (most recent call last)",
      "\u001b[36mCell\u001b[39m\u001b[36m \u001b[39m\u001b[32mIn[6]\u001b[39m\u001b[32m, line 7\u001b[39m\n\u001b[32m      1\u001b[39m \u001b[38;5;28;01mfrom\u001b[39;00m\u001b[38;5;250m \u001b[39m\u001b[34;01mmatplotlib\u001b[39;00m\u001b[38;5;250m \u001b[39m\u001b[38;5;28;01mimport\u001b[39;00m pyplot \u001b[38;5;28;01mas\u001b[39;00m plt\n\u001b[32m      3\u001b[39m \u001b[38;5;66;03m# plt.plot(losses)\u001b[39;00m\n\u001b[32m      4\u001b[39m \u001b[38;5;66;03m# plt.title(\"Loss\")\u001b[39;00m\n\u001b[32m      5\u001b[39m \u001b[38;5;66;03m# plt.show()\u001b[39;00m\n\u001b[32m----> \u001b[39m\u001b[32m7\u001b[39m plt.plot(\u001b[43mtrain_accuracies\u001b[49m, label=\u001b[33m\"\u001b[39m\u001b[33mtrain\u001b[39m\u001b[33m\"\u001b[39m)\n\u001b[32m      8\u001b[39m plt.plot(val_accuracies, label=\u001b[33m\"\u001b[39m\u001b[33mval\u001b[39m\u001b[33m\"\u001b[39m)\n\u001b[32m      9\u001b[39m plt.title(\u001b[33m\"\u001b[39m\u001b[33mAccuracy\u001b[39m\u001b[33m\"\u001b[39m)\n",
      "\u001b[31mNameError\u001b[39m: name 'train_accuracies' is not defined"
     ]
    }
   ],
   "source": [
    "from matplotlib import pyplot as plt\n",
    "\n",
    "# plt.plot(losses)\n",
    "# plt.title(\"Loss\")\n",
    "# plt.show()\n",
    "\n",
    "plt.plot(train_accuracies, label=\"train\")\n",
    "plt.plot(val_accuracies, label=\"val\")\n",
    "plt.title(\"Accuracy\")\n",
    "plt.legend()\n",
    "plt.xlabel(\"Epoch\")\n",
    "plt.show()"
   ]
  }
 ],
 "metadata": {
  "kernelspec": {
   "display_name": ".venv",
   "language": "python",
   "name": "python3"
  },
  "language_info": {
   "codemirror_mode": {
    "name": "ipython",
    "version": 3
   },
   "file_extension": ".py",
   "mimetype": "text/x-python",
   "name": "python",
   "nbconvert_exporter": "python",
   "pygments_lexer": "ipython3",
   "version": "3.13.2"
  }
 },
 "nbformat": 4,
 "nbformat_minor": 5
}
